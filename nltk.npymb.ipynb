{
 "cells": [
  {
   "cell_type": "code",
   "execution_count": 1,
   "metadata": {},
   "outputs": [],
   "source": [
    "person = 'Jeremiah'"
   ]
  },
  {
   "cell_type": "code",
   "execution_count": 4,
   "metadata": {},
   "outputs": [
    {
     "name": "stdout",
     "output_type": "stream",
     "text": [
      "my name is Jeremiah\n"
     ]
    }
   ],
   "source": [
    "print(\"my name is\", person)"
   ]
  },
  {
   "cell_type": "code",
   "execution_count": 5,
   "metadata": {},
   "outputs": [
    {
     "name": "stdout",
     "output_type": "stream",
     "text": [
      "my name is Jeremiah\n"
     ]
    }
   ],
   "source": [
    "print('my name is {}'.format(person))"
   ]
  },
  {
   "cell_type": "code",
   "execution_count": 6,
   "metadata": {},
   "outputs": [
    {
     "name": "stdout",
     "output_type": "stream",
     "text": [
      "my name is Jeremiah\n"
     ]
    }
   ],
   "source": [
    "print(f\"my name is {person}\")"
   ]
  },
  {
   "cell_type": "code",
   "execution_count": 12,
   "metadata": {},
   "outputs": [
    {
     "name": "stdout",
     "output_type": "stream",
     "text": [
      "1234\n"
     ]
    }
   ],
   "source": [
    "d = {'a': 1234, 'b': 345}\n",
    "\n",
    "print(d['a'])"
   ]
  },
  {
   "cell_type": "code",
   "execution_count": 14,
   "metadata": {},
   "outputs": [
    {
     "name": "stdout",
     "output_type": "stream",
     "text": [
      "56\n"
     ]
    }
   ],
   "source": [
    "mylist = [0, 234, 56, 109, 91]\n",
    "print(mylist[2])"
   ]
  },
  {
   "cell_type": "markdown",
   "metadata": {},
   "source": [
    "## alignment"
   ]
  },
  {
   "cell_type": "code",
   "execution_count": 15,
   "metadata": {},
   "outputs": [],
   "source": [
    "lib = [('author', 'book', 'Year' ),('Krishana', 'NLP', 2021 ),('Jeremiah', 'CCA150', 2019 ),('Joe', 'Economy', 2020 ),('Raj', 'Sweet Home', 2022 )]"
   ]
  },
  {
   "cell_type": "code",
   "execution_count": 16,
   "metadata": {},
   "outputs": [
    {
     "data": {
      "text/plain": [
       "[('author', 'book', 'Year'),\n",
       " ('Krishana', 'NLP', 2021),\n",
       " ('Jeremiah', 'CCA150', 2019),\n",
       " ('Joe', 'Economy', 2020),\n",
       " ('Raj', 'Sweet Home', 2022)]"
      ]
     },
     "execution_count": 16,
     "metadata": {},
     "output_type": "execute_result"
    }
   ],
   "source": [
    "lib"
   ]
  },
  {
   "cell_type": "code",
   "execution_count": 21,
   "metadata": {},
   "outputs": [
    {
     "name": "stdout",
     "output_type": "stream",
     "text": [
      "Author is author\n",
      "Author is Krishana\n",
      "Author is Jeremiah\n",
      "Author is Joe\n",
      "Author is Raj\n"
     ]
    }
   ],
   "source": [
    "for book in lib:\n",
    "    print('Author is', book[0])"
   ]
  },
  {
   "cell_type": "code",
   "execution_count": 44,
   "metadata": {},
   "outputs": [
    {
     "name": "stdout",
     "output_type": "stream",
     "text": [
      "author               book                 Year\n",
      "Krishana             NLP                  2021\n",
      "Jeremiah             CCA150               2019\n",
      "Joe                  Economy              2020\n",
      "Raj                  Sweet Home           2022\n"
     ]
    }
   ],
   "source": [
    "for author, book, year in lib:\n",
    "    print(f\"{author:{20}} {book:{20}} {year}\")"
   ]
  },
  {
   "cell_type": "code",
   "execution_count": 48,
   "metadata": {},
   "outputs": [
    {
     "name": "stdout",
     "output_type": "stream",
     "text": [
      "2020-03-18 00:00:00\n",
      "March 18, 2020\n"
     ]
    },
    {
     "data": {
      "text/plain": [
       "'Check strftime for datetime formatting'"
      ]
     },
     "execution_count": 48,
     "metadata": {},
     "output_type": "execute_result"
    }
   ],
   "source": [
    "from datetime import datetime\n",
    "today = datetime(year=2020, month=3, day=18)\n",
    "print(today)\n",
    "print(f\"{today:%B %d, %Y}\")\n",
    "'''Check strftime for datetime formatting'''"
   ]
  },
  {
   "cell_type": "markdown",
   "metadata": {},
   "source": [
    "### Working with Textfile"
   ]
  },
  {
   "cell_type": "markdown",
   "metadata": {},
   "source": [
    "#### %%writefile test.txt, use this magic command to create a file then write texts on the file"
   ]
  },
  {
   "cell_type": "code",
   "execution_count": 51,
   "metadata": {},
   "outputs": [
    {
     "name": "stdout",
     "output_type": "stream",
     "text": [
      "Overwriting test.txt\n"
     ]
    }
   ],
   "source": [
    "%%writefile test.txt\n",
    "Hello, this is a quick test file.\n",
    "this is a second line of the text file "
   ]
  },
  {
   "cell_type": "code",
   "execution_count": 74,
   "metadata": {},
   "outputs": [
    {
     "data": {
      "text/plain": [
       "'you can not call multiple read for the same file, if you want to re-read the file you have to use seek myfile.seek(0)'"
      ]
     },
     "execution_count": 74,
     "metadata": {},
     "output_type": "execute_result"
    }
   ],
   "source": [
    "myfile = open('test.txt')\n",
    "myfile.read()\n",
    "'''you can not call multiple read for the same file, if you want to re-read the file you have to use seek myfile.seek(0)'''"
   ]
  },
  {
   "cell_type": "code",
   "execution_count": 76,
   "metadata": {},
   "outputs": [
    {
     "data": {
      "text/plain": [
       "0"
      ]
     },
     "execution_count": 76,
     "metadata": {},
     "output_type": "execute_result"
    }
   ],
   "source": [
    "myfile.seek(0)"
   ]
  },
  {
   "cell_type": "code",
   "execution_count": 77,
   "metadata": {},
   "outputs": [
    {
     "data": {
      "text/plain": [
       "['Hello, this is a quick test file.\\n',\n",
       " 'this is a second line of the text file \\n']"
      ]
     },
     "execution_count": 77,
     "metadata": {},
     "output_type": "execute_result"
    }
   ],
   "source": [
    "myfile_line = myfile.readlines()\n",
    "\n",
    "myfile_line\n",
    "\n",
    "\n"
   ]
  },
  {
   "cell_type": "code",
   "execution_count": 79,
   "metadata": {},
   "outputs": [
    {
     "name": "stdout",
     "output_type": "stream",
     "text": [
      "Hello, this is a quick test file.\n",
      "\n",
      "this is a second line of the text file \n",
      "\n"
     ]
    }
   ],
   "source": [
    "for line in myfile_line:\n",
    "    print(line)"
   ]
  },
  {
   "cell_type": "code",
   "execution_count": 80,
   "metadata": {},
   "outputs": [],
   "source": [
    "### you must close the file, otherwise it will throw error, 'python is using this file'\n",
    "myfile.close()"
   ]
  },
  {
   "cell_type": "code",
   "execution_count": 81,
   "metadata": {},
   "outputs": [],
   "source": [
    "### read or write access w+\n",
    "\n",
    "myfile = open('test.txt', 'w+')"
   ]
  },
  {
   "cell_type": "code",
   "execution_count": 83,
   "metadata": {},
   "outputs": [
    {
     "data": {
      "text/plain": [
       "''"
      ]
     },
     "execution_count": 83,
     "metadata": {},
     "output_type": "execute_result"
    }
   ],
   "source": [
    "myfile.read()\n"
   ]
  },
  {
   "cell_type": "code",
   "execution_count": 84,
   "metadata": {},
   "outputs": [
    {
     "data": {
      "text/plain": [
       "19"
      ]
     },
     "execution_count": 84,
     "metadata": {},
     "output_type": "execute_result"
    }
   ],
   "source": [
    "myfile.write('My new file to read')"
   ]
  },
  {
   "cell_type": "code",
   "execution_count": 86,
   "metadata": {},
   "outputs": [
    {
     "data": {
      "text/plain": [
       "0"
      ]
     },
     "execution_count": 86,
     "metadata": {},
     "output_type": "execute_result"
    }
   ],
   "source": [
    "myfile.seek(0)"
   ]
  },
  {
   "cell_type": "code",
   "execution_count": 87,
   "metadata": {},
   "outputs": [
    {
     "data": {
      "text/plain": [
       "'My new file to read'"
      ]
     },
     "execution_count": 87,
     "metadata": {},
     "output_type": "execute_result"
    }
   ],
   "source": [
    "myfile.read()"
   ]
  },
  {
   "cell_type": "code",
   "execution_count": 88,
   "metadata": {},
   "outputs": [],
   "source": [
    "myfile.close()"
   ]
  },
  {
   "cell_type": "code",
   "execution_count": 90,
   "metadata": {},
   "outputs": [
    {
     "data": {
      "text/plain": [
       "27"
      ]
     },
     "execution_count": 90,
     "metadata": {},
     "output_type": "execute_result"
    }
   ],
   "source": [
    "### append\n",
    "###\n",
    "myfile = open('whoops.txt', 'a+')\n",
    "myfile.write('My first line in A+ opening')"
   ]
  },
  {
   "cell_type": "code",
   "execution_count": 91,
   "metadata": {},
   "outputs": [],
   "source": [
    "myfile.close()"
   ]
  },
  {
   "cell_type": "code",
   "execution_count": 92,
   "metadata": {},
   "outputs": [],
   "source": [
    "newfile = open('whoops.txt')"
   ]
  },
  {
   "cell_type": "code",
   "execution_count": 93,
   "metadata": {},
   "outputs": [
    {
     "data": {
      "text/plain": [
       "'My first line in A+ opening'"
      ]
     },
     "execution_count": 93,
     "metadata": {},
     "output_type": "execute_result"
    }
   ],
   "source": [
    "newfile.read()"
   ]
  },
  {
   "cell_type": "code",
   "execution_count": 94,
   "metadata": {},
   "outputs": [],
   "source": [
    "myfile = open('whoops.txt', mode='a+')"
   ]
  },
  {
   "cell_type": "code",
   "execution_count": 102,
   "metadata": {},
   "outputs": [
    {
     "data": {
      "text/plain": [
       "45"
      ]
     },
     "execution_count": 102,
     "metadata": {},
     "output_type": "execute_result"
    }
   ],
   "source": [
    "myfile.write('This line is added, because I added a+ mode. ')"
   ]
  },
  {
   "cell_type": "code",
   "execution_count": 103,
   "metadata": {},
   "outputs": [
    {
     "data": {
      "text/plain": [
       "42"
      ]
     },
     "execution_count": 103,
     "metadata": {},
     "output_type": "execute_result"
    }
   ],
   "source": [
    "myfile.write('This is the second line added to the file.')"
   ]
  },
  {
   "cell_type": "code",
   "execution_count": 104,
   "metadata": {},
   "outputs": [
    {
     "data": {
      "text/plain": [
       "0"
      ]
     },
     "execution_count": 104,
     "metadata": {},
     "output_type": "execute_result"
    }
   ],
   "source": [
    "myfile.seek(0)"
   ]
  },
  {
   "cell_type": "code",
   "execution_count": 105,
   "metadata": {},
   "outputs": [
    {
     "data": {
      "text/plain": [
       "'My first line in A+ openingThis line is added, because I added a+ modeThis is the second line added to the file.This line is added, because I added a+ mode. This is the second line added to the file.'"
      ]
     },
     "execution_count": 105,
     "metadata": {},
     "output_type": "execute_result"
    }
   ],
   "source": [
    "myfile.read()"
   ]
  },
  {
   "cell_type": "code",
   "execution_count": 106,
   "metadata": {},
   "outputs": [],
   "source": [
    "myfile.close()"
   ]
  },
  {
   "cell_type": "code",
   "execution_count": 107,
   "metadata": {},
   "outputs": [],
   "source": [
    "with open('whoops.txt') as mynewfile:\n",
    "    myvariable = mynewfile.readlines()"
   ]
  },
  {
   "cell_type": "code",
   "execution_count": 108,
   "metadata": {},
   "outputs": [
    {
     "data": {
      "text/plain": [
       "['My first line in A+ openingThis line is added, because I added a+ modeThis is the second line added to the file.This line is added, because I added a+ mode. This is the second line added to the file.']"
      ]
     },
     "execution_count": 108,
     "metadata": {},
     "output_type": "execute_result"
    }
   ],
   "source": [
    "myvariable"
   ]
  },
  {
   "cell_type": "markdown",
   "metadata": {},
   "source": [
    "### Working with PDF file"
   ]
  },
  {
   "cell_type": "code",
   "execution_count": 109,
   "metadata": {},
   "outputs": [],
   "source": [
    "### scanned pdf needs software to extract word from an image"
   ]
  },
  {
   "cell_type": "code",
   "execution_count": 111,
   "metadata": {},
   "outputs": [],
   "source": [
    "import PyPDF2"
   ]
  },
  {
   "cell_type": "code",
   "execution_count": 117,
   "metadata": {},
   "outputs": [],
   "source": [
    "mypdf = open('../../Desktop/Declaration_ReadTheDeclaration.pdf', mode='rb')"
   ]
  },
  {
   "cell_type": "code",
   "execution_count": 119,
   "metadata": {},
   "outputs": [
    {
     "name": "stderr",
     "output_type": "stream",
     "text": [
      "PdfReadWarning: Xref table not zero-indexed. ID numbers for objects will be corrected. [pdf.py:1736]\n"
     ]
    }
   ],
   "source": [
    "pdf_file = PyPDF2.PdfFileReader(mypdf)"
   ]
  },
  {
   "cell_type": "code",
   "execution_count": 120,
   "metadata": {},
   "outputs": [
    {
     "data": {
      "text/plain": [
       "3"
      ]
     },
     "execution_count": 120,
     "metadata": {},
     "output_type": "execute_result"
    }
   ],
   "source": [
    "pdf_file.numPages"
   ]
  },
  {
   "cell_type": "code",
   "execution_count": 127,
   "metadata": {},
   "outputs": [],
   "source": [
    "pageOne=pdf_file.getPage(0)"
   ]
  },
  {
   "cell_type": "code",
   "execution_count": 130,
   "metadata": {},
   "outputs": [
    {
     "name": "stdout",
     "output_type": "stream",
     "text": [
      "The Declaration of Independence:  Read the Declaration  \n",
      "(Continued)The Declaration of IndependenceAction of Second Continental Congress,July 4, 1776. The unanimous Declaration of the thirteen united States of America,\n",
      "When in the Course of human Events, it becomes necessary for one People to dissolve the Political Bands \n",
      " which have connected them with another, and to assume among the Powers of the Earth, the separate and equal \n",
      "\n",
      "Station to which the Laws of Nature and of Nature™s God entitle them, a decent Respect to the Opinions of \n",
      " \n",
      "Mankind requires that they should declare the causes which impel them to the Separation.\n",
      "We hold these Truths to be self-evident, that all Men are created equal, that they are endowed by their Creator with \n",
      "certain unalienable Rights, that among these are Life, Liberty, and the Pursuit of HappinessŠThat to secure these \n",
      "\n",
      "Rights, Governments are instituted among Men, deriving their just Powers from the Consent of the Governed, that \n",
      "\n",
      "whenever any form of Government becomes destructive of these Ends, it is the Right of the People to alter or to \n",
      "\n",
      "abolish it, and to institute new Government, laying its Foundation on such Principles, and organizing its Powers in \n",
      "\n",
      "such form, as to them shall seem most likely to effect their Safety and Happiness. Prudence, indeed, will dictate that \n",
      "\n",
      "Governments long established should not be changed for light and transient Causes; and accordingly all Experi\n",
      "-\n",
      "ence hath shewn, that Mankind are more disposed to suffer, while Evils are sufferable, than to right themselves by \n",
      "\n",
      "abolishing the forms to which they are accustomed. But when a long Train of Abuses and Usurpations, pursuing \n",
      "\n",
      "invariably the same Object, evinces a Design to reduce them under absolute Despotism, it is their Right, it is their \n",
      "Duty, to throw off such Government, and to provide new Guards for their future Security. Such has been the patient \n",
      "Sufferance of these Colonies; and such is now the Necessity which constrains them to alter their former Systems \n",
      "of Government. The History of the present King of Great-Britain is a History of repeated Injuries and Usurpations, \n",
      "\n",
      "all having in direct Object the Establishment of an absolute Tyranny over these States. To prove this, let Facts be \n",
      "\n",
      "submitted to a candid World.\n",
      "  He has refused his Assent to Laws, the most wholesome and necessary for the public Good.\n",
      " \n",
      "He has forbidden his Governors to pass Laws of immediate and pressing Importance, unless suspended in their \n",
      "\n",
      "Operation till his Assent should be obtained; and when so suspended, he has utterly neglected to attend to them.\n",
      "\n",
      " \n",
      "He has refused to pass other Laws for the Accommodation of large Districts of People, unless those People would \n",
      "\n",
      "relinquish the Right of Representation in the Legislature, a Right inestimable to them, and formidable to Tyrants only.\n",
      "He has called together Legislative Bodies at Places unusual, uncomfortable, and distant from the Depository of their \n",
      "public Records, for the sole Purpose of fatiguing them into Compliance with his Measures.\n",
      " \n",
      "He has dissolved Representative Houses repeatedly, for opposing with manly Firmness his Invasions on the Rights \n",
      "\n",
      "of the People.\n",
      "He has refused for a long Time, after such Dissolutions, to cause others to be elected; whereby the Legislative \n",
      "Powers, incapable of Annihilation, have returned to the People at large for their exercise; the State remaining in the \n",
      "\n",
      "mean time exposed to all the Dangers of Invasion from without, and Convulsions within.\n"
     ]
    }
   ],
   "source": [
    "pdf_read_one = pageOne.extractText()\n",
    "print(myfile)"
   ]
  },
  {
   "cell_type": "code",
   "execution_count": 132,
   "metadata": {},
   "outputs": [],
   "source": [
    "mypdf.close()"
   ]
  },
  {
   "cell_type": "code",
   "execution_count": 133,
   "metadata": {},
   "outputs": [],
   "source": [
    "f = open('../../Desktop/Declaration_ReadTheDeclaration.pdf', mode='rb')"
   ]
  },
  {
   "cell_type": "code",
   "execution_count": 135,
   "metadata": {},
   "outputs": [],
   "source": [
    "pdf_reader = PyPDF2.PdfFileReader(f)"
   ]
  },
  {
   "cell_type": "code",
   "execution_count": 136,
   "metadata": {},
   "outputs": [],
   "source": [
    "first_page = pdf_reader.getPage(0)"
   ]
  },
  {
   "cell_type": "code",
   "execution_count": 137,
   "metadata": {},
   "outputs": [],
   "source": [
    "pdf_writer= PyPDF2.PdfFileWriter()"
   ]
  },
  {
   "cell_type": "code",
   "execution_count": 138,
   "metadata": {},
   "outputs": [],
   "source": [
    "pdf_writer.addPage(first_page)"
   ]
  },
  {
   "cell_type": "code",
   "execution_count": 139,
   "metadata": {},
   "outputs": [],
   "source": [
    "pdf_output = open('MY_BRAND_NEW.pdf', 'wb')"
   ]
  },
  {
   "cell_type": "code",
   "execution_count": 140,
   "metadata": {},
   "outputs": [],
   "source": [
    "pdf_writer.write(pdf_output)"
   ]
  },
  {
   "cell_type": "code",
   "execution_count": 141,
   "metadata": {},
   "outputs": [],
   "source": [
    "pdf_output.close()"
   ]
  },
  {
   "cell_type": "code",
   "execution_count": 142,
   "metadata": {},
   "outputs": [],
   "source": [
    "f.close()"
   ]
  },
  {
   "cell_type": "code",
   "execution_count": 144,
   "metadata": {},
   "outputs": [],
   "source": [
    "brand_new = open('MY_BRAND_NEW.pdf', 'rb')\n",
    "pdf_reader = PyPDF2.PdfFileReader(brand_new)"
   ]
  },
  {
   "cell_type": "code",
   "execution_count": 145,
   "metadata": {},
   "outputs": [
    {
     "data": {
      "text/plain": [
       "1"
      ]
     },
     "execution_count": 145,
     "metadata": {},
     "output_type": "execute_result"
    }
   ],
   "source": [
    "pdf_reader.numPages"
   ]
  },
  {
   "cell_type": "code",
   "execution_count": 146,
   "metadata": {},
   "outputs": [],
   "source": [
    "f = open('../../Desktop/Declaration_ReadTheDeclaration.pdf','rb')"
   ]
  },
  {
   "cell_type": "code",
   "execution_count": 147,
   "metadata": {},
   "outputs": [],
   "source": [
    "pdf_text = [0]"
   ]
  },
  {
   "cell_type": "code",
   "execution_count": 152,
   "metadata": {},
   "outputs": [],
   "source": [
    "pdf_reader = PyPDF2.PdfFileReader(f)\n",
    "\n",
    "for p in range(pdf_reader.numPages):\n",
    "    page = pdf_reader.getPage(p)\n",
    "    pdf_text.append(page.extractText())\n",
    "    \n",
    "f.close()"
   ]
  },
  {
   "cell_type": "code",
   "execution_count": 153,
   "metadata": {},
   "outputs": [
    {
     "data": {
      "text/plain": [
       "[0,\n",
       " 'The Declaration of Independence:  Read the Declaration  \\n(Continued)The Declaration of IndependenceAction of Second Continental Congress,July 4, 1776. The unanimous Declaration of the thirteen united States of America,\\nWhen in the Course of human Events, it becomes necessary for one People to dissolve the Political Bands \\n which have connected them with another, and to assume among the Powers of the Earth, the separate and equal \\n\\nStation to which the Laws of Nature and of Nature™s God entitle them, a decent Respect to the Opinions of \\n \\nMankind requires that they should declare the causes which impel them to the Separation.\\nWe hold these Truths to be self-evident, that all Men are created equal, that they are endowed by their Creator with \\ncertain unalienable Rights, that among these are Life, Liberty, and the Pursuit of HappinessŠThat to secure these \\n\\nRights, Governments are instituted among Men, deriving their just Powers from the Consent of the Governed, that \\n\\nwhenever any form of Government becomes destructive of these Ends, it is the Right of the People to alter or to \\n\\nabolish it, and to institute new Government, laying its Foundation on such Principles, and organizing its Powers in \\n\\nsuch form, as to them shall seem most likely to effect their Safety and Happiness. Prudence, indeed, will dictate that \\n\\nGovernments long established should not be changed for light and transient Causes; and accordingly all Experi\\n-\\nence hath shewn, that Mankind are more disposed to suffer, while Evils are sufferable, than to right themselves by \\n\\nabolishing the forms to which they are accustomed. But when a long Train of Abuses and Usurpations, pursuing \\n\\ninvariably the same Object, evinces a Design to reduce them under absolute Despotism, it is their Right, it is their \\nDuty, to throw off such Government, and to provide new Guards for their future Security. Such has been the patient \\nSufferance of these Colonies; and such is now the Necessity which constrains them to alter their former Systems \\nof Government. The History of the present King of Great-Britain is a History of repeated Injuries and Usurpations, \\n\\nall having in direct Object the Establishment of an absolute Tyranny over these States. To prove this, let Facts be \\n\\nsubmitted to a candid World.\\n  He has refused his Assent to Laws, the most wholesome and necessary for the public Good.\\n \\nHe has forbidden his Governors to pass Laws of immediate and pressing Importance, unless suspended in their \\n\\nOperation till his Assent should be obtained; and when so suspended, he has utterly neglected to attend to them.\\n\\n \\nHe has refused to pass other Laws for the Accommodation of large Districts of People, unless those People would \\n\\nrelinquish the Right of Representation in the Legislature, a Right inestimable to them, and formidable to Tyrants only.\\nHe has called together Legislative Bodies at Places unusual, uncomfortable, and distant from the Depository of their \\npublic Records, for the sole Purpose of fatiguing them into Compliance with his Measures.\\n \\nHe has dissolved Representative Houses repeatedly, for opposing with manly Firmness his Invasions on the Rights \\n\\nof the People.\\nHe has refused for a long Time, after such Dissolutions, to cause others to be elected; whereby the Legislative \\nPowers, incapable of Annihilation, have returned to the People at large for their exercise; the State remaining in the \\n\\nmean time exposed to all the Dangers of Invasion from without, and Convulsions within.',\n",
       " 'The Declaration of Independence:  Read the Declaration  \\n(Continued)He has endeavoured to prevent the Population of these States; for that Purpose obstructing the Laws for \\n Naturalization of foreigners; refusing to pass others to encourage their Migrations hither, and raising the Conditions \\n\\nof new Appropriations of Lands. He has obstructed the Administration of Justice, by refusing his assent to Laws for establishing Judiciary Powers. \\nHe has made Judges dependent on his Will alone, for the Tenure of their Of˜ces, and the Amount and Payment \\n of their Salaries.\\nHe has erected a Multitude of new Of˜ces, and sent hither Swarms of Of˜cers to harrass our People, and eat \\n out their Substance. \\nHe has kept among us, in Times of Peace, Standing Armies, without the consent of our Legislatures. \\n\\nHe has affected to render the Military independent of and superior to the Civil Power. \\n\\nHe has combined with others to subject us to a Jurisdiction foreign to our Constitution, and unacknowledged \\n by our Laws; giving his Assent to their Acts of pretended Legislation: For quartering large Bodies of Armed Troops among us: \\n\\nFor protecting them, by a mock Trial, from Punishment for any Murders which they should commit on the \\n Inhabitants of these States:\\nFor cutting off our Trade with all Parts of the World:\\n\\nFor imposing Taxes on us without our Consent:\\n\\nFor depriving us, in many Cases, of the Bene˜ts of Trial by Jury:\\n\\nFor transporting us beyond Seas to be tried for pretended Offences:\\n\\nFor abolishing the free System of English Laws in a neighbouring Province, establishing therein an arbitrary \\n Government and enlarging its Boundaries, so as to render it at once an Example and ˜t Instrument for introducing \\n\\nthe same absolute Rule into these Colonies:\\nFor taking away our Charters, abolishing our most valuable Laws, and altering fundamentally the forms \\n of our Governments:For suspending our own Legislatures, and declaring themselves invested with Power to legislate for us \\n in all Cases whatsoever.\\nHe has abdicated Government here, by declaring us out of his Protection and waging War against us.\\n\\nHe has plundered our Seas, ravaged our Coasts, burnt our Towns, and destroyed the Lives of our People. \\n2',\n",
       " 'The Declaration of Independence:  Read the Declaration  \\n(Continued)He is, at this Time, transporting large Armies of foreign Mercenaries to compleat the Works of Death, Desolation, \\nand Tyranny already begun with circumstances of Cruelty and Per˜dy, scarcely paralleled in the most barbarous \\n\\nAges, and totally unworthy of the Head of a civilized Nation.\\nHe has constrained our fellow Citizens taken Captive on the high Seas to bear Arms against their Country, \\n to become the Executioners of their friends and Brethren, or to fall themselves by their Hands.He has excited domestic Insurrections amongst us, and has endeavoured to bring on the Inhabitants of our \\n Frontiers, the merciless Indian Savages, whose known Rule of Warfare, is an undistinguished Destruction, \\n \\nof all Ages, Sexes and Conditions.In has refusedevery stage of these Oppressions we have Petitioned for Redress in the most humble Terms: \\n Our repeated Petitions have been answered only by repeated Injury. A Prince, whose Character is thus marked \\n \\nby every act which may de˜ne a Tyrant, is un˜t to be the Ruler of a free People.\\nNor have we been wanting in Attentions to our British Brethren. We have warned them from Time to Time of \\n Attempts by their Legislature to extend an unwarrantable jurisdiction over us. We have reminded them of the \\n \\nCircumstances of our Emigration and Settlement here. We have appealed to their native justice and Magnanimity, \\n\\nand we have conjured them by the Ties of our common Kindred to disavow these Usurpations, which, would \\n \\ninevitably interrupt our Connections and Correspondence. They too have been deaf to the Voice of Justice and of \\n\\nConsanguinity. We must, therefore, acquiesce in the Necessity, which denounces our Separation, and hold them, \\n \\nas we hold the rest of Mankind, Enemies in War, in Peace, Friends.\\nWe, therefore, the Representatives of the UNITED STATES OF AMERICA, in General Congress, Assembled, ap\\n-pealing to the Supreme Judge of the World for the Rectitude of our Intentions, do, in the Name, and by Authority \\nof the good People of these Colonies, solemnly Publish and Declare, That these United Colonies are, and of Right \\n\\nought to be, FREE AND INDEPENDENT STATES, that they are absolved from all Allegiance to the British Crown, \\n\\nand that all political Connection between them and the State of Great-Britain, is and ought to be totally dissolved; \\n\\nand that as FREE AND INDEPENDENT STATES, they have full Power to levy War, conclude Peace, contract Alli\\n-\\nances, establish Commerce, and to do all other Acts and Things which INDEPENDENT STATES may of right do. \\n\\nAnd for the support of this Declaration, with a ˜rm Reliance on the Protection of divine Providence, we mutually \\npledge to each other our Lives, our fortunes, and our sacred Honor.\\n© Oak Hill Publishing Company.  All rights reserved.\\n\\nOak Hill Publishing Company.  Box 6473, Naperville, IL 60567\\nTo learn more about the Constitution Š the people, the events, the landmark cases Š\\n\\norder a copy of ﬁThe U.S. Constitution and Fascinating Facts About Itﬂ today!\\nCall to order: 1-800-887-6661\\n or order online at www.constitutionfacts.com\\n3']"
      ]
     },
     "execution_count": 153,
     "metadata": {},
     "output_type": "execute_result"
    }
   ],
   "source": [
    "pdf_text"
   ]
  },
  {
   "cell_type": "code",
   "execution_count": 154,
   "metadata": {},
   "outputs": [
    {
     "data": {
      "text/plain": [
       "4"
      ]
     },
     "execution_count": 154,
     "metadata": {},
     "output_type": "execute_result"
    }
   ],
   "source": [
    "len(pdf_text)"
   ]
  },
  {
   "cell_type": "code",
   "execution_count": 156,
   "metadata": {},
   "outputs": [
    {
     "name": "stdout",
     "output_type": "stream",
     "text": [
      "0\n",
      "\n",
      "\n",
      "\n",
      "\n",
      "\n",
      "\n",
      "The Declaration of Independence:  Read the Declaration  \n",
      "(Continued)The Declaration of IndependenceAction of Second Continental Congress,July 4, 1776. The unanimous Declaration of the thirteen united States of America,\n",
      "When in the Course of human Events, it becomes necessary for one People to dissolve the Political Bands \n",
      " which have connected them with another, and to assume among the Powers of the Earth, the separate and equal \n",
      "\n",
      "Station to which the Laws of Nature and of Nature™s God entitle them, a decent Respect to the Opinions of \n",
      " \n",
      "Mankind requires that they should declare the causes which impel them to the Separation.\n",
      "We hold these Truths to be self-evident, that all Men are created equal, that they are endowed by their Creator with \n",
      "certain unalienable Rights, that among these are Life, Liberty, and the Pursuit of HappinessŠThat to secure these \n",
      "\n",
      "Rights, Governments are instituted among Men, deriving their just Powers from the Consent of the Governed, that \n",
      "\n",
      "whenever any form of Government becomes destructive of these Ends, it is the Right of the People to alter or to \n",
      "\n",
      "abolish it, and to institute new Government, laying its Foundation on such Principles, and organizing its Powers in \n",
      "\n",
      "such form, as to them shall seem most likely to effect their Safety and Happiness. Prudence, indeed, will dictate that \n",
      "\n",
      "Governments long established should not be changed for light and transient Causes; and accordingly all Experi\n",
      "-\n",
      "ence hath shewn, that Mankind are more disposed to suffer, while Evils are sufferable, than to right themselves by \n",
      "\n",
      "abolishing the forms to which they are accustomed. But when a long Train of Abuses and Usurpations, pursuing \n",
      "\n",
      "invariably the same Object, evinces a Design to reduce them under absolute Despotism, it is their Right, it is their \n",
      "Duty, to throw off such Government, and to provide new Guards for their future Security. Such has been the patient \n",
      "Sufferance of these Colonies; and such is now the Necessity which constrains them to alter their former Systems \n",
      "of Government. The History of the present King of Great-Britain is a History of repeated Injuries and Usurpations, \n",
      "\n",
      "all having in direct Object the Establishment of an absolute Tyranny over these States. To prove this, let Facts be \n",
      "\n",
      "submitted to a candid World.\n",
      "  He has refused his Assent to Laws, the most wholesome and necessary for the public Good.\n",
      " \n",
      "He has forbidden his Governors to pass Laws of immediate and pressing Importance, unless suspended in their \n",
      "\n",
      "Operation till his Assent should be obtained; and when so suspended, he has utterly neglected to attend to them.\n",
      "\n",
      " \n",
      "He has refused to pass other Laws for the Accommodation of large Districts of People, unless those People would \n",
      "\n",
      "relinquish the Right of Representation in the Legislature, a Right inestimable to them, and formidable to Tyrants only.\n",
      "He has called together Legislative Bodies at Places unusual, uncomfortable, and distant from the Depository of their \n",
      "public Records, for the sole Purpose of fatiguing them into Compliance with his Measures.\n",
      " \n",
      "He has dissolved Representative Houses repeatedly, for opposing with manly Firmness his Invasions on the Rights \n",
      "\n",
      "of the People.\n",
      "He has refused for a long Time, after such Dissolutions, to cause others to be elected; whereby the Legislative \n",
      "Powers, incapable of Annihilation, have returned to the People at large for their exercise; the State remaining in the \n",
      "\n",
      "mean time exposed to all the Dangers of Invasion from without, and Convulsions within.\n",
      "\n",
      "\n",
      "\n",
      "\n",
      "\n",
      "\n",
      "The Declaration of Independence:  Read the Declaration  \n",
      "(Continued)He has endeavoured to prevent the Population of these States; for that Purpose obstructing the Laws for \n",
      " Naturalization of foreigners; refusing to pass others to encourage their Migrations hither, and raising the Conditions \n",
      "\n",
      "of new Appropriations of Lands. He has obstructed the Administration of Justice, by refusing his assent to Laws for establishing Judiciary Powers. \n",
      "He has made Judges dependent on his Will alone, for the Tenure of their Of˜ces, and the Amount and Payment \n",
      " of their Salaries.\n",
      "He has erected a Multitude of new Of˜ces, and sent hither Swarms of Of˜cers to harrass our People, and eat \n",
      " out their Substance. \n",
      "He has kept among us, in Times of Peace, Standing Armies, without the consent of our Legislatures. \n",
      "\n",
      "He has affected to render the Military independent of and superior to the Civil Power. \n",
      "\n",
      "He has combined with others to subject us to a Jurisdiction foreign to our Constitution, and unacknowledged \n",
      " by our Laws; giving his Assent to their Acts of pretended Legislation: For quartering large Bodies of Armed Troops among us: \n",
      "\n",
      "For protecting them, by a mock Trial, from Punishment for any Murders which they should commit on the \n",
      " Inhabitants of these States:\n",
      "For cutting off our Trade with all Parts of the World:\n",
      "\n",
      "For imposing Taxes on us without our Consent:\n",
      "\n",
      "For depriving us, in many Cases, of the Bene˜ts of Trial by Jury:\n",
      "\n",
      "For transporting us beyond Seas to be tried for pretended Offences:\n",
      "\n",
      "For abolishing the free System of English Laws in a neighbouring Province, establishing therein an arbitrary \n",
      " Government and enlarging its Boundaries, so as to render it at once an Example and ˜t Instrument for introducing \n",
      "\n",
      "the same absolute Rule into these Colonies:\n",
      "For taking away our Charters, abolishing our most valuable Laws, and altering fundamentally the forms \n",
      " of our Governments:For suspending our own Legislatures, and declaring themselves invested with Power to legislate for us \n",
      " in all Cases whatsoever.\n",
      "He has abdicated Government here, by declaring us out of his Protection and waging War against us.\n",
      "\n",
      "He has plundered our Seas, ravaged our Coasts, burnt our Towns, and destroyed the Lives of our People. \n",
      "2\n",
      "\n",
      "\n",
      "\n",
      "\n",
      "\n",
      "\n",
      "The Declaration of Independence:  Read the Declaration  \n",
      "(Continued)He is, at this Time, transporting large Armies of foreign Mercenaries to compleat the Works of Death, Desolation, \n",
      "and Tyranny already begun with circumstances of Cruelty and Per˜dy, scarcely paralleled in the most barbarous \n",
      "\n",
      "Ages, and totally unworthy of the Head of a civilized Nation.\n",
      "He has constrained our fellow Citizens taken Captive on the high Seas to bear Arms against their Country, \n",
      " to become the Executioners of their friends and Brethren, or to fall themselves by their Hands.He has excited domestic Insurrections amongst us, and has endeavoured to bring on the Inhabitants of our \n",
      " Frontiers, the merciless Indian Savages, whose known Rule of Warfare, is an undistinguished Destruction, \n",
      " \n",
      "of all Ages, Sexes and Conditions.In has refusedevery stage of these Oppressions we have Petitioned for Redress in the most humble Terms: \n",
      " Our repeated Petitions have been answered only by repeated Injury. A Prince, whose Character is thus marked \n",
      " \n",
      "by every act which may de˜ne a Tyrant, is un˜t to be the Ruler of a free People.\n",
      "Nor have we been wanting in Attentions to our British Brethren. We have warned them from Time to Time of \n",
      " Attempts by their Legislature to extend an unwarrantable jurisdiction over us. We have reminded them of the \n",
      " \n",
      "Circumstances of our Emigration and Settlement here. We have appealed to their native justice and Magnanimity, \n",
      "\n",
      "and we have conjured them by the Ties of our common Kindred to disavow these Usurpations, which, would \n",
      " \n",
      "inevitably interrupt our Connections and Correspondence. They too have been deaf to the Voice of Justice and of \n",
      "\n",
      "Consanguinity. We must, therefore, acquiesce in the Necessity, which denounces our Separation, and hold them, \n",
      " \n",
      "as we hold the rest of Mankind, Enemies in War, in Peace, Friends.\n",
      "We, therefore, the Representatives of the UNITED STATES OF AMERICA, in General Congress, Assembled, ap\n",
      "-pealing to the Supreme Judge of the World for the Rectitude of our Intentions, do, in the Name, and by Authority \n",
      "of the good People of these Colonies, solemnly Publish and Declare, That these United Colonies are, and of Right \n",
      "\n",
      "ought to be, FREE AND INDEPENDENT STATES, that they are absolved from all Allegiance to the British Crown, \n",
      "\n",
      "and that all political Connection between them and the State of Great-Britain, is and ought to be totally dissolved; \n",
      "\n",
      "and that as FREE AND INDEPENDENT STATES, they have full Power to levy War, conclude Peace, contract Alli\n",
      "-\n",
      "ances, establish Commerce, and to do all other Acts and Things which INDEPENDENT STATES may of right do. \n",
      "\n",
      "And for the support of this Declaration, with a ˜rm Reliance on the Protection of divine Providence, we mutually \n",
      "pledge to each other our Lives, our fortunes, and our sacred Honor.\n",
      "© Oak Hill Publishing Company.  All rights reserved.\n",
      "\n",
      "Oak Hill Publishing Company.  Box 6473, Naperville, IL 60567\n",
      "To learn more about the Constitution Š the people, the events, the landmark cases Š\n",
      "\n",
      "order a copy of ﬁThe U.S. Constitution and Fascinating Facts About Itﬂ today!\n",
      "Call to order: 1-800-887-6661\n",
      " or order online at www.constitutionfacts.com\n",
      "3\n",
      "\n",
      "\n",
      "\n",
      "\n",
      "\n",
      "\n"
     ]
    }
   ],
   "source": [
    "for page in pdf_text:\n",
    "    print(page)\n",
    "    print('\\n')\n",
    "    print('\\n')\n",
    "    print('\\n')"
   ]
  },
  {
   "cell_type": "markdown",
   "metadata": {},
   "source": [
    "### Regular Expression"
   ]
  },
  {
   "cell_type": "markdown",
   "metadata": {},
   "source": [
    "'''\\d is for digit, \\w alphanumeric A-b_1, \\s whitespace a b c, \\D a nondigit ABC: capital letter, \\W non-alphanumeric #+=, \\S non-whitespace Yoyo'''"
   ]
  },
  {
   "cell_type": "code",
   "execution_count": 157,
   "metadata": {},
   "outputs": [],
   "source": [
    "text = \"The phone number is the agent is 408-099-0102. call soon!\""
   ]
  },
  {
   "cell_type": "code",
   "execution_count": 158,
   "metadata": {},
   "outputs": [
    {
     "data": {
      "text/plain": [
       "True"
      ]
     },
     "execution_count": 158,
     "metadata": {},
     "output_type": "execute_result"
    }
   ],
   "source": [
    "\"408-099-0102\" in text"
   ]
  },
  {
   "cell_type": "code",
   "execution_count": 159,
   "metadata": {},
   "outputs": [
    {
     "data": {
      "text/plain": [
       "False"
      ]
     },
     "execution_count": 159,
     "metadata": {},
     "output_type": "execute_result"
    }
   ],
   "source": [
    "\"408-099-0103\" in text"
   ]
  },
  {
   "cell_type": "markdown",
   "metadata": {},
   "source": [
    "#### import re for regular expression"
   ]
  },
  {
   "cell_type": "code",
   "execution_count": 161,
   "metadata": {},
   "outputs": [],
   "source": [
    "import re"
   ]
  },
  {
   "cell_type": "code",
   "execution_count": 162,
   "metadata": {},
   "outputs": [],
   "source": [
    "pattern = 'phone'"
   ]
  },
  {
   "cell_type": "code",
   "execution_count": 163,
   "metadata": {},
   "outputs": [
    {
     "data": {
      "text/plain": [
       "<re.Match object; span=(4, 9), match='phone'>"
      ]
     },
     "execution_count": 163,
     "metadata": {},
     "output_type": "execute_result"
    }
   ],
   "source": [
    "re.search(pattern, text)"
   ]
  },
  {
   "cell_type": "code",
   "execution_count": 164,
   "metadata": {},
   "outputs": [],
   "source": [
    "text1 = \"my phone is a new phone\""
   ]
  },
  {
   "cell_type": "code",
   "execution_count": 172,
   "metadata": {},
   "outputs": [
    {
     "data": {
      "text/plain": [
       "'This only checks for the first match'"
      ]
     },
     "execution_count": 172,
     "metadata": {},
     "output_type": "execute_result"
    }
   ],
   "source": [
    "match = re.search(pattern, text1)\n",
    "\"\"\"This only checks for the first match\"\"\""
   ]
  },
  {
   "cell_type": "code",
   "execution_count": 166,
   "metadata": {},
   "outputs": [
    {
     "data": {
      "text/plain": [
       "<re.Match object; span=(3, 8), match='phone'>"
      ]
     },
     "execution_count": 166,
     "metadata": {},
     "output_type": "execute_result"
    }
   ],
   "source": [
    "match\n"
   ]
  },
  {
   "cell_type": "code",
   "execution_count": 168,
   "metadata": {},
   "outputs": [],
   "source": [
    "all_matches = re.findall(\"phone\", text1)"
   ]
  },
  {
   "cell_type": "code",
   "execution_count": 169,
   "metadata": {},
   "outputs": [
    {
     "data": {
      "text/plain": [
       "['phone', 'phone']"
      ]
     },
     "execution_count": 169,
     "metadata": {},
     "output_type": "execute_result"
    }
   ],
   "source": [
    "all_matches"
   ]
  },
  {
   "cell_type": "code",
   "execution_count": 170,
   "metadata": {},
   "outputs": [
    {
     "data": {
      "text/plain": [
       "2"
      ]
     },
     "execution_count": 170,
     "metadata": {},
     "output_type": "execute_result"
    }
   ],
   "source": [
    "len(all_matches)"
   ]
  },
  {
   "cell_type": "code",
   "execution_count": 171,
   "metadata": {},
   "outputs": [
    {
     "name": "stdout",
     "output_type": "stream",
     "text": [
      "(3, 8)\n",
      "(18, 23)\n"
     ]
    }
   ],
   "source": [
    "for match in re.finditer(\"phone\", text1):\n",
    "    print(match.span())"
   ]
  },
  {
   "cell_type": "code",
   "execution_count": 173,
   "metadata": {},
   "outputs": [
    {
     "data": {
      "text/plain": [
       "'The phone number is the agent is 408-099-0102. call soon!'"
      ]
     },
     "execution_count": 173,
     "metadata": {},
     "output_type": "execute_result"
    }
   ],
   "source": [
    "text"
   ]
  },
  {
   "cell_type": "code",
   "execution_count": 185,
   "metadata": {},
   "outputs": [],
   "source": [
    "pattern = r'\\d\\d\\d-\\d\\d\\d-\\d\\d\\d\\d'"
   ]
  },
  {
   "cell_type": "code",
   "execution_count": 186,
   "metadata": {},
   "outputs": [],
   "source": [
    "phone_number = re.search(pattern, text)"
   ]
  },
  {
   "cell_type": "code",
   "execution_count": 187,
   "metadata": {},
   "outputs": [
    {
     "data": {
      "text/plain": [
       "'408-099-0102'"
      ]
     },
     "execution_count": 187,
     "metadata": {},
     "output_type": "execute_result"
    }
   ],
   "source": [
    "phone_number.group()"
   ]
  },
  {
   "cell_type": "code",
   "execution_count": 188,
   "metadata": {},
   "outputs": [],
   "source": [
    "text2 = 'phone number 123-343-4343, 245-567-3456, 456-345-6666'"
   ]
  },
  {
   "cell_type": "code",
   "execution_count": 189,
   "metadata": {},
   "outputs": [],
   "source": [
    "group_phone = re.findall(pattern, text2)"
   ]
  },
  {
   "cell_type": "code",
   "execution_count": 190,
   "metadata": {},
   "outputs": [
    {
     "data": {
      "text/plain": [
       "['123-343-4343', '245-567-3456', '456-345-6666']"
      ]
     },
     "execution_count": 190,
     "metadata": {},
     "output_type": "execute_result"
    }
   ],
   "source": [
    "group_phone"
   ]
  },
  {
   "cell_type": "markdown",
   "metadata": {},
   "source": [
    "### Quantifiers"
   ]
  },
  {
   "cell_type": "code",
   "execution_count": 192,
   "metadata": {},
   "outputs": [
    {
     "data": {
      "text/plain": [
       "'+ occurs 1 or more time, {3} exactly 3 times, {2, 4}: two to 4 times, {3, }: 3 or more times, * occurs zore or more times, A*B*C* AAACC\\n? Once or none Plurals? plural'"
      ]
     },
     "execution_count": 192,
     "metadata": {},
     "output_type": "execute_result"
    }
   ],
   "source": [
    "'''+ occurs 1 or more time, {3} exactly 3 times, {2, 4}: two to 4 times, {3, }: 3 or more times, * occurs zore or more times, A*B*C* AAACC\n",
    "? Once or none Plurals? plural'''"
   ]
  },
  {
   "cell_type": "code",
   "execution_count": 200,
   "metadata": {},
   "outputs": [],
   "source": [
    "phone = '123-456-0989'\n",
    "quantifiers = re.search(r'\\d{3}-\\d{3}-\\d{4}', phone)"
   ]
  },
  {
   "cell_type": "code",
   "execution_count": 201,
   "metadata": {},
   "outputs": [
    {
     "data": {
      "text/plain": [
       "<re.Match object; span=(0, 12), match='123-456-0989'>"
      ]
     },
     "execution_count": 201,
     "metadata": {},
     "output_type": "execute_result"
    }
   ],
   "source": [
    "quantifiers"
   ]
  },
  {
   "cell_type": "code",
   "execution_count": 202,
   "metadata": {},
   "outputs": [
    {
     "data": {
      "text/plain": [
       "'123-456-0989'"
      ]
     },
     "execution_count": 202,
     "metadata": {},
     "output_type": "execute_result"
    }
   ],
   "source": [
    "quantifiers.group()"
   ]
  },
  {
   "cell_type": "markdown",
   "metadata": {},
   "source": [
    "### Regular expression 2"
   ]
  },
  {
   "cell_type": "code",
   "execution_count": 203,
   "metadata": {},
   "outputs": [
    {
     "data": {
      "text/plain": [
       "'separate group using parenthesis r\"(\\\\d{4})-(\\\\d{3})-(\\\\d{4})\"'"
      ]
     },
     "execution_count": 203,
     "metadata": {},
     "output_type": "execute_result"
    }
   ],
   "source": [
    "'''separate group using parenthesis r\"(\\d{4})-(\\d{3})-(\\d{4})\"'''"
   ]
  },
  {
   "cell_type": "code",
   "execution_count": 204,
   "metadata": {},
   "outputs": [
    {
     "data": {
      "text/plain": [
       "<re.Match object; span=(7, 10), match='boy'>"
      ]
     },
     "execution_count": 204,
     "metadata": {},
     "output_type": "execute_result"
    }
   ],
   "source": [
    "re.search(\"boy|girl\", \"it's a boy\")"
   ]
  },
  {
   "cell_type": "code",
   "execution_count": 208,
   "metadata": {},
   "outputs": [
    {
     "data": {
      "text/plain": [
       "['cat', 'hat', 'rat', 'mat', 'fat']"
      ]
     },
     "execution_count": 208,
     "metadata": {},
     "output_type": "execute_result"
    }
   ],
   "source": [
    "re.findall(r\".at\", \"The cat in the hat looking for rat sitting on mat and it is fat\")"
   ]
  },
  {
   "cell_type": "code",
   "execution_count": 210,
   "metadata": {},
   "outputs": [
    {
     "data": {
      "text/plain": [
       "['e cat', 'e hat', 'r rat', 'aaaat', ' flat']"
      ]
     },
     "execution_count": 210,
     "metadata": {},
     "output_type": "execute_result"
    }
   ],
   "source": [
    "re.findall(r\"...at\", \"The cat in the hat looking for rat sitting on baaaat and it is flattt\")"
   ]
  },
  {
   "cell_type": "code",
   "execution_count": 215,
   "metadata": {},
   "outputs": [
    {
     "data": {
      "text/plain": [
       "'$ sign ends with a single digit'"
      ]
     },
     "execution_count": 215,
     "metadata": {},
     "output_type": "execute_result"
    }
   ],
   "source": [
    "\"\"\"$ sign ends with a single digit, ^ starts with\"\"\""
   ]
  },
  {
   "cell_type": "code",
   "execution_count": 216,
   "metadata": {},
   "outputs": [
    {
     "data": {
      "text/plain": [
       "['4']"
      ]
     },
     "execution_count": 216,
     "metadata": {},
     "output_type": "execute_result"
    }
   ],
   "source": [
    "re.findall(r\"\\d$\", \"this ends with 444\")"
   ]
  },
  {
   "cell_type": "code",
   "execution_count": 218,
   "metadata": {},
   "outputs": [
    {
     "data": {
      "text/plain": [
       "['1']"
      ]
     },
     "execution_count": 218,
     "metadata": {},
     "output_type": "execute_result"
    }
   ],
   "source": [
    "re.findall(r\"^\\d\", \"1 is in 1234\")"
   ]
  },
  {
   "cell_type": "code",
   "execution_count": 219,
   "metadata": {},
   "outputs": [],
   "source": [
    "phrase = \"There are 3 numbers 34 inside this 5 sentences\""
   ]
  },
  {
   "cell_type": "code",
   "execution_count": 220,
   "metadata": {},
   "outputs": [
    {
     "data": {
      "text/plain": [
       "'Exclude any digit'"
      ]
     },
     "execution_count": 220,
     "metadata": {},
     "output_type": "execute_result"
    }
   ],
   "source": [
    "\"\"\"Exclude any digit\"\"\""
   ]
  },
  {
   "cell_type": "code",
   "execution_count": 222,
   "metadata": {},
   "outputs": [
    {
     "data": {
      "text/plain": [
       "['There are ', ' numbers ', ' inside this ', ' sentences']"
      ]
     },
     "execution_count": 222,
     "metadata": {},
     "output_type": "execute_result"
    }
   ],
   "source": [
    "re.findall(r\"[^\\d]+\", phrase)"
   ]
  },
  {
   "cell_type": "code",
   "execution_count": 223,
   "metadata": {},
   "outputs": [],
   "source": [
    "test_phrase=\"This is a string! but it has a puncuation. How to remove it\""
   ]
  },
  {
   "cell_type": "code",
   "execution_count": 225,
   "metadata": {},
   "outputs": [],
   "source": [
    "mylist = re.findall(r\"[^!.?]+\", test_phrase)"
   ]
  },
  {
   "cell_type": "code",
   "execution_count": 228,
   "metadata": {},
   "outputs": [
    {
     "data": {
      "text/plain": [
       "'This is a string but it has a puncuation How to remove it'"
      ]
     },
     "execution_count": 228,
     "metadata": {},
     "output_type": "execute_result"
    }
   ],
   "source": [
    "''.join(mylist)"
   ]
  },
  {
   "cell_type": "code",
   "execution_count": 229,
   "metadata": {},
   "outputs": [],
   "source": [
    "text = \"only find the hyphon-words. Were are the long-ish dash words?\""
   ]
  },
  {
   "cell_type": "code",
   "execution_count": 230,
   "metadata": {},
   "outputs": [
    {
     "data": {
      "text/plain": [
       "['hyphon-words', 'long-ish']"
      ]
     },
     "execution_count": 230,
     "metadata": {},
     "output_type": "execute_result"
    }
   ],
   "source": [
    "re.findall(r\"[\\w]+-[\\w]+\", text)"
   ]
  },
  {
   "cell_type": "code",
   "execution_count": null,
   "metadata": {},
   "outputs": [],
   "source": []
  }
 ],
 "metadata": {
  "kernelspec": {
   "display_name": "Python 3",
   "language": "python",
   "name": "python3"
  },
  "language_info": {
   "codemirror_mode": {
    "name": "ipython",
    "version": 3
   },
   "file_extension": ".py",
   "mimetype": "text/x-python",
   "name": "python",
   "nbconvert_exporter": "python",
   "pygments_lexer": "ipython3",
   "version": "3.7.3"
  }
 },
 "nbformat": 4,
 "nbformat_minor": 2
}
